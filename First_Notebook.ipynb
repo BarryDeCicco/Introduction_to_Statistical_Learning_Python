{
  "nbformat": 4,
  "nbformat_minor": 0,
  "metadata": {
    "colab": {
      "provenance": [],
      "toc_visible": true,
      "authorship_tag": "ABX9TyO1Hl75MQ9jsTr7Qa47RWId",
      "include_colab_link": true
    },
    "kernelspec": {
      "name": "python3",
      "display_name": "Python 3"
    },
    "language_info": {
      "name": "python"
    }
  },
  "cells": [
    {
      "cell_type": "markdown",
      "metadata": {
        "id": "view-in-github",
        "colab_type": "text"
      },
      "source": [
        "<a href=\"https://colab.research.google.com/github/BarryDeCicco/Introduction_to_Statistical_Learning_Python/blob/main/First_Notebook.ipynb\" target=\"_parent\"><img src=\"https://colab.research.google.com/assets/colab-badge.svg\" alt=\"Open In Colab\"/></a>"
      ]
    },
    {
      "cell_type": "markdown",
      "source": [
        "# Import Packages:"
      ],
      "metadata": {
        "id": "sLdTJCfgMeCs"
      }
    },
    {
      "cell_type": "code",
      "source": [
        "import pandas as pd\n",
        "import numpy as np\n",
        "import matplotlib.pyplot as plt\n",
        "import seaborn as sns"
      ],
      "metadata": {
        "id": "J85LI2snNpf5"
      },
      "execution_count": null,
      "outputs": []
    },
    {
      "cell_type": "code",
      "source": [
        "# prompt: install package 'ydata-sdk' from 'https://pypi.org/'\n",
        "\n",
        "# already installed\n",
        "# !pip install ydata-sdk\n",
        "\n"
      ],
      "metadata": {
        "id": "GdAi5Ho1Lw6m"
      },
      "execution_count": null,
      "outputs": []
    },
    {
      "cell_type": "code",
      "source": [
        "# prompt: install from python -m pip install https://github.com/explosion/spacy-models/releases/download/en_core_web_lg-3.8.0/en_core_web_lg-3.8.0-py3-none-any.whl\n",
        "\n",
        "!python -m pip install https://github.com/explosion/spacy-models/releases/download/en_core_web_lg-3.8.0/en_core_web_lg-3.8.0-py3-none-any.whl\n"
      ],
      "metadata": {
        "id": "X0hbaYEbTGAb"
      },
      "execution_count": null,
      "outputs": []
    },
    {
      "cell_type": "markdown",
      "source": [
        "## Getting Original Data Set from Kaggle:"
      ],
      "metadata": {
        "id": "KcAthu5UJYz-"
      }
    },
    {
      "cell_type": "code",
      "source": [
        "import kagglehub\n",
        "\n",
        "# Download latest version\n",
        "path = kagglehub.dataset_download(\"prasad22/healthcare-dataset\")\n",
        "\n",
        "print(\"Path to dataset files:\", path)"
      ],
      "metadata": {
        "id": "DvYS5z40HqWc"
      },
      "execution_count": null,
      "outputs": []
    },
    {
      "cell_type": "code",
      "source": [
        "# prompt: list data sets at /root/.cache/kagglehub/datasets/prasad22/healthcare-dataset/versions/2\n",
        "\n",
        "import os\n",
        "dataset_path = \"/root/.cache/kagglehub/datasets/prasad22/healthcare-dataset/versions/2\"\n",
        "\n",
        "if os.path.exists(dataset_path):\n",
        "    for filename in os.listdir(dataset_path):\n",
        "        print(filename)\n",
        "else:\n",
        "    print(f\"The directory '{dataset_path}' does not exist.\")\n"
      ],
      "metadata": {
        "id": "dur5U6SsICgL"
      },
      "execution_count": null,
      "outputs": []
    },
    {
      "cell_type": "code",
      "source": [
        "# prompt: import /root/.cache/kagglehub/datasets/prasad22/healthcare-dataset/versions/2healthcare_dataset.csv as df_original\n",
        "\n",
        "import pandas as pd\n",
        "import os\n",
        "\n",
        "dataset_path = \"/root/.cache/kagglehub/datasets/prasad22/healthcare-dataset/versions/2\"\n",
        "\n",
        "# Check if the file exists before attempting to read it\n",
        "csv_filepath = os.path.join(dataset_path, \"healthcare_dataset.csv\")\n",
        "\n",
        "if os.path.exists(csv_filepath):\n",
        "    try:\n",
        "        df_original = pd.read_csv(csv_filepath)\n",
        "        print(\"Successfully imported the CSV file as df_original.\")\n",
        "    except pd.errors.ParserError as e:\n",
        "        print(f\"Error parsing the CSV file: {e}\")\n",
        "    except Exception as e:\n",
        "        print(f\"An unexpected error occurred: {e}\")\n",
        "else:\n",
        "    print(f\"The file '{csv_filepath}' does not exist.\")\n"
      ],
      "metadata": {
        "id": "SrYfsgBjIJCB"
      },
      "execution_count": null,
      "outputs": []
    },
    {
      "cell_type": "markdown",
      "source": [
        "### Checking for Autocorrelations for Numeric Columns:\n",
        "*Ydata can generate serially independent data, so check for serial auto correlation first*"
      ],
      "metadata": {
        "id": "UEeACe3k5JVl"
      }
    },
    {
      "cell_type": "code",
      "source": [
        "# prompt: modify to show variable name in the plot title:  for column_name in numeric_cols.columns:\n",
        "#     plot_acf(numeric_cols[column_name], 'title' )\n",
        "#     plt.show()\n",
        "\n",
        "# From:  https://stackoverflow.com/questions/58252736/how-plot-and-label-multiple-autocorrelation-functions-in-pandas\n",
        "\n",
        "from statsmodels.graphics.tsaplots import plot_acf\n",
        "\n",
        "# Assuming numeric_cols is a pandas DataFrame containing numeric columns\n",
        "for column_name in numeric_cols.columns:\n",
        "    plot_acf(numeric_cols[column_name])\n",
        "    plt.title(f'Autocorrelation of {column_name}') # Modified title\n",
        "    plt.show()\n"
      ],
      "metadata": {
        "id": "Fy5Lfgdf54QY"
      },
      "execution_count": null,
      "outputs": []
    },
    {
      "cell_type": "markdown",
      "source": [
        "## Generating Synthetic Data using YData SDK\n"
      ],
      "metadata": {
        "id": "AUekVRfMRnXy"
      }
    },
    {
      "cell_type": "code",
      "source": [],
      "metadata": {
        "id": "D7SDRY8XUF1v"
      },
      "execution_count": null,
      "outputs": []
    },
    {
      "cell_type": "code",
      "source": [],
      "metadata": {
        "id": "Q_mx27t4UFp9"
      },
      "execution_count": null,
      "outputs": []
    },
    {
      "cell_type": "markdown",
      "source": [
        "# Examine Original Data Set:\n",
        "(using YData SDK)"
      ],
      "metadata": {
        "id": "7eOxOJQXJo6Z"
      }
    },
    {
      "cell_type": "code",
      "source": [
        "type(df_original)"
      ],
      "metadata": {
        "id": "NgRQWBj0NE7c"
      },
      "execution_count": null,
      "outputs": []
    },
    {
      "cell_type": "code",
      "source": [
        "\n",
        "import pandas as pd\n",
        "\n",
        "if 'df_original' in locals():\n",
        "  try:\n",
        "    rows = len(df_original)\n",
        "    cols = len(df_original.columns)\n",
        "    print(\"Number of rows:\", rows)\n",
        "    print(\"Number of columns:\", cols)\n",
        "  except Exception as e:\n",
        "    print(f\"An error occurred: {e}\")\n",
        "else:\n",
        "  print(\"df_original is not defined. Please ensure the CSV file is read successfully.\")\n",
        "\n"
      ],
      "metadata": {
        "id": "aZ8SIz4_MvBo"
      },
      "execution_count": null,
      "outputs": []
    },
    {
      "cell_type": "code",
      "source": [
        "df_original.head(10)"
      ],
      "metadata": {
        "id": "2dDgsi9kO2On"
      },
      "execution_count": null,
      "outputs": []
    },
    {
      "cell_type": "code",
      "source": [],
      "metadata": {
        "id": "cgKS9ENzSSgg"
      },
      "execution_count": null,
      "outputs": []
    },
    {
      "cell_type": "code",
      "source": [],
      "metadata": {
        "id": "6_emMkJ4STBI"
      },
      "execution_count": null,
      "outputs": []
    },
    {
      "cell_type": "code",
      "source": [],
      "metadata": {
        "id": "W6cUjrgSSSxc"
      },
      "execution_count": null,
      "outputs": []
    },
    {
      "cell_type": "code",
      "source": [
        "# prompt: Using dataframe df_original: plot of missing values counts and percentages\n",
        "\n",
        "import matplotlib.pyplot as plt\n",
        "import pandas as pd\n",
        "\n",
        "# Calculate missing values\n",
        "missing_values = df_original.isnull().sum()\n",
        "missing_percentages = (missing_values / len(df_original)) * 100\n",
        "\n",
        "# Create a DataFrame for plotting\n",
        "missing_df = pd.DataFrame({'Column': missing_values.index, 'Missing Values': missing_values.values, 'Percentage': missing_percentages.values})\n",
        "\n",
        "# Plotting the missing values\n",
        "plt.figure(figsize=(10, 6))  # Adjust figure size for better visualization\n",
        "plt.bar(missing_df['Column'], missing_df['Missing Values'])\n",
        "plt.xticks(rotation=90)\n",
        "plt.ylabel('Number of Missing Values')\n",
        "plt.xlabel('Column Name')\n",
        "plt.title('Missing Values in Each Column')\n",
        "plt.tight_layout()  # Adjust layout to prevent labels from overlapping\n",
        "plt.show()\n",
        "\n",
        "\n",
        "# Plotting missing value percentages\n",
        "plt.figure(figsize=(10, 6))\n",
        "plt.bar(missing_df['Column'], missing_df['Percentage'])\n",
        "plt.xticks(rotation=90)\n",
        "plt.ylabel('Percentage of Missing Values (%)')\n",
        "plt.xlabel('Column Name')\n",
        "plt.title('Percentage of Missing Values in Each Column')\n",
        "plt.tight_layout()\n",
        "plt.show()\n"
      ],
      "metadata": {
        "id": "qJRtBP0vQUia"
      },
      "execution_count": null,
      "outputs": []
    },
    {
      "cell_type": "code",
      "source": [
        "# prompt: Using dataframe df_original: Distribution of all numeric variables\n",
        "\n",
        "import pandas as pd\n",
        "import matplotlib.pyplot as plt\n",
        "\n",
        "# Assuming 'df_original' is your DataFrame\n",
        "\n",
        "# Select only numeric columns\n",
        "numeric_cols = df_original.select_dtypes(include=['number'])\n",
        "\n",
        "\n",
        "# Loop through each numeric column and create a histogram\n",
        "for col in numeric_cols.columns:\n",
        "    plt.figure(figsize=(8, 6))  # Adjust figure size as needed\n",
        "    plt.hist(df_original[col], bins=20, edgecolor='black') # Adjust number of bins as needed\n",
        "    plt.xlabel(col)\n",
        "    plt.ylabel('Frequency')\n",
        "    plt.title(f'Distribution of {col}')\n",
        "    plt.grid(axis='y', alpha=0.75)\n",
        "    plt.show()\n"
      ],
      "metadata": {
        "id": "g8Jj0V9mQGL9"
      },
      "execution_count": null,
      "outputs": []
    }
  ]
}