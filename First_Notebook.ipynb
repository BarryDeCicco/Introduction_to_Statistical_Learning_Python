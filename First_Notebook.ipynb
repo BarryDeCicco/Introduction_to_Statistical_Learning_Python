{
  "nbformat": 4,
  "nbformat_minor": 0,
  "metadata": {
    "colab": {
      "provenance": [],
      "toc_visible": true,
      "authorship_tag": "ABX9TyM/gyvKqEMQNccMnuXoeRAV",
      "include_colab_link": true
    },
    "kernelspec": {
      "name": "python3",
      "display_name": "Python 3"
    },
    "language_info": {
      "name": "python"
    }
  },
  "cells": [
    {
      "cell_type": "markdown",
      "metadata": {
        "id": "view-in-github",
        "colab_type": "text"
      },
      "source": [
        "<a href=\"https://colab.research.google.com/github/BarryDeCicco/Introduction_to_Statistical_Learning_Python/blob/main/First_Notebook.ipynb\" target=\"_parent\"><img src=\"https://colab.research.google.com/assets/colab-badge.svg\" alt=\"Open In Colab\"/></a>"
      ]
    },
    {
      "cell_type": "markdown",
      "source": [
        "# Import Packages:"
      ],
      "metadata": {
        "id": "sLdTJCfgMeCs"
      }
    },
    {
      "cell_type": "code",
      "source": [
        "import pandas as pd\n",
        "import numpy as np\n",
        "import matplotlib.pyplot as plt\n",
        "import seaborn as sns"
      ],
      "metadata": {
        "id": "J85LI2snNpf5"
      },
      "execution_count": null,
      "outputs": []
    },
    {
      "cell_type": "code",
      "source": [
        "# prompt: install package 'ydata-sdk' from 'https://pypi.org/'\n",
        "\n",
        "# already installed\n",
        "# !pip install ydata-sdk\n",
        "\n"
      ],
      "metadata": {
        "id": "GdAi5Ho1Lw6m"
      },
      "execution_count": null,
      "outputs": []
    }
  ]
}